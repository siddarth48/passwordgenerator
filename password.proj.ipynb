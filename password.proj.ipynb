{
 "cells": [
  {
   "cell_type": "code",
   "execution_count": 2,
   "id": "fb8a38b0",
   "metadata": {},
   "outputs": [
    {
     "name": "stdout",
     "output_type": "stream",
     "text": [
      "ENTER YOUR PASSWORD\n",
      "HERE THE PASSWORD:\n",
      "{\n",
      "{k\n",
      "{ko\n",
      "{koc\n",
      "{kocH\n",
      "{kocH%\n",
      "{kocH%B\n",
      "{kocH%Bo\n",
      "<\n",
      "<L\n",
      "<LR\n",
      "<LR/\n",
      "<LR/#\n",
      "<LR/#_\n",
      "<LR/#_V\n",
      "<LR/#_VP\n",
      "$\n",
      "$Z\n",
      "$Zo\n",
      "$Zo%\n",
      "$Zo%R\n",
      "$Zo%RP\n",
      "$Zo%RPf\n",
      "$Zo%RPff\n",
      "F\n",
      "F.\n",
      "F.V\n",
      "F.V$\n",
      "F.V$!\n",
      "F.V$!u\n",
      "F.V$!uT\n",
      "F.V$!uTM\n",
      "D\n",
      "D>\n",
      "D>W\n",
      "D>WG\n",
      "D>WGn\n",
      "D>WGns\n",
      "D>WGns \n",
      "D>WGns I\n",
      "Z\n",
      "Z*\n",
      "Z* \n",
      "Z* I\n",
      "Z* IC\n",
      "Z* IC?\n",
      "Z* IC?V\n",
      "Z* IC?V+\n"
     ]
    }
   ],
   "source": [
    "import random as rdj\n",
    "print(\"ENTER YOUR PASSWORD\")\n",
    "no_of_charscters=(\"~! @#$%^&*()_-+={[}]|:;\"\"''<,>.?/:ABCDEFGHIJKLMNOPQRSTUVWXYZabcdefghijklmnopqrstuvwxyz\")\n",
    "no_of_password=int(input(\"please enter the password:\"))\n",
    "length_of_password_generator=int(input(\"please enter the length of your password:\"))\n",
    "\n",
    "print(\"HERE THE PASSWORD:\")\n",
    "for j in range(no_of_password):\n",
    "    pwd=\"\"\n",
    "    for k in range(length_of_password_generator):\n",
    "        pwd=pwd + rdj.choice(no_of_charscters)\n",
    "        print(pwd)"
   ]
  },
  {
   "cell_type": "code",
   "execution_count": null,
   "id": "041e21e0",
   "metadata": {},
   "outputs": [],
   "source": []
  },
  {
   "cell_type": "code",
   "execution_count": null,
   "id": "4a1f71ac",
   "metadata": {},
   "outputs": [],
   "source": []
  }
 ],
 "metadata": {
  "kernelspec": {
   "display_name": "base",
   "language": "python",
   "name": "python3"
  },
  "language_info": {
   "codemirror_mode": {
    "name": "ipython",
    "version": 3
   },
   "file_extension": ".py",
   "mimetype": "text/x-python",
   "name": "python",
   "nbconvert_exporter": "python",
   "pygments_lexer": "ipython3",
   "version": "3.11.5"
  }
 },
 "nbformat": 4,
 "nbformat_minor": 5
}
